{
 "cells": [
  {
   "cell_type": "code",
   "execution_count": 7,
   "metadata": {},
   "outputs": [
    {
     "name": "stdout",
     "output_type": "stream",
     "text": [
      "Train video saved to: data2/full_train.mp4\n",
      "Test video saved to: data2/full_test.mp4\n"
     ]
    }
   ],
   "source": [
    "#Only use 25% of the original video (~2min30sec)\n",
    "#Split the mouse06.mp4 video into train and test set\n",
    "\n",
    "import cv2\n",
    "import os\n",
    "\n",
    "def split_video(input_path, output_train_path, output_test_path, use_ratio=1, train_ratio=0.75):\n",
    "    # Open the video file\n",
    "    cap = cv2.VideoCapture(input_path)\n",
    "\n",
    "    if not cap.isOpened():\n",
    "        print(\"Error opening video file\")\n",
    "        return\n",
    "\n",
    "    # Get video properties\n",
    "    fps = int(cap.get(cv2.CAP_PROP_FPS))\n",
    "    total_frames = int(cap.get(cv2.CAP_PROP_FRAME_COUNT))\n",
    "    width  = int(cap.get(cv2.CAP_PROP_FRAME_WIDTH))\n",
    "    height = int(cap.get(cv2.CAP_PROP_FRAME_HEIGHT))\n",
    "    fourcc = cv2.VideoWriter_fourcc(*'mp4v')\n",
    "\n",
    "    # Limit to the first use_ratio portion of the video\n",
    "    used_frames = int(total_frames * use_ratio)\n",
    "    train_frames = int(used_frames * train_ratio)\n",
    "\n",
    "    # Create video writers\n",
    "    out_train = cv2.VideoWriter(output_train_path, fourcc, fps, (width, height))\n",
    "    out_test = cv2.VideoWriter(output_test_path, fourcc, fps, (width, height))\n",
    "\n",
    "    frame_index = 0\n",
    "    while frame_index < used_frames:\n",
    "        ret, frame = cap.read()\n",
    "        if not ret:\n",
    "            break\n",
    "\n",
    "        if frame_index < train_frames:\n",
    "            out_train.write(frame)\n",
    "        else:\n",
    "            out_test.write(frame)\n",
    "\n",
    "        frame_index += 1\n",
    "\n",
    "    # Release everything\n",
    "    cap.release()\n",
    "    out_train.release()\n",
    "    out_test.release()\n",
    "\n",
    "    print(f\"Train video saved to: {output_train_path}\")\n",
    "    print(f\"Test video saved to: {output_test_path}\")\n",
    "\n",
    "# Run it\n",
    "split_video(\n",
    "    input_path=\"data2/full.mp4\",\n",
    "    output_train_path=\"data2/full_train.mp4\",\n",
    "    output_test_path=\"data2/full_test.mp4\"\n",
    ")\n"
   ]
  },
  {
   "cell_type": "code",
   "execution_count": null,
   "metadata": {},
   "outputs": [
    {
     "name": "stdout",
     "output_type": "stream",
     "text": [
      "✅ Done splitting into 8 parts.\n"
     ]
    }
   ],
   "source": [
    "from moviepy.editor import VideoFileClip\n",
    "import os\n",
    "\n",
    "def split_video_into_8_parts(video_path):\n",
    "    \"\"\"\n",
    "    Splits the input video into 8 equal-length segments and saves them with numbered suffixes.\n",
    "    \n",
    "    Args:\n",
    "        video_path (str): Path to the original video file (MP4).\n",
    "    \"\"\"\n",
    "    # Load video\n",
    "    video = VideoFileClip(video_path)\n",
    "    duration = video.duration  # in seconds\n",
    "    segment_duration = duration / 8\n",
    "\n",
    "    base, ext = os.path.splitext(video_path)\n",
    "    \n",
    "    for i in range(8):\n",
    "        start = i * segment_duration\n",
    "        end = (i + 1) * segment_duration\n",
    "        subclip = video.subclip(start, end)\n",
    "\n",
    "        output_path = f\"data2/video_{i+1}.mp4\"\n",
    "        subclip.write_videofile(output_path, codec='libx264', audio=False, verbose=False, logger=None)\n",
    "\n",
    "    print(\"✅ Done splitting into 8 parts.\")\n",
    "\n",
    "split_video_into_8_parts(\"data2/full.mp4\")"
   ]
  },
  {
   "cell_type": "code",
   "execution_count": 1,
   "metadata": {},
   "outputs": [
    {
     "name": "stdout",
     "output_type": "stream",
     "text": [
      "Processed video saved to: data3/full_video.mp4\n"
     ]
    }
   ],
   "source": [
    "import cv2\n",
    "\n",
    "video_path = 'data3/original_video.mp4'\n",
    "output_path = 'data3/full_video.mp4'\n",
    "\n",
    "# Open original video\n",
    "cap = cv2.VideoCapture(video_path)\n",
    "fps = cap.get(cv2.CAP_PROP_FPS)\n",
    "frame_count = int(cap.get(cv2.CAP_PROP_FRAME_COUNT))\n",
    "width  = int(cap.get(cv2.CAP_PROP_FRAME_WIDTH))\n",
    "height = int(cap.get(cv2.CAP_PROP_FRAME_HEIGHT))\n",
    "\n",
    "# Calculate number of frames to keep (first 50%)\n",
    "half_frame_count = frame_count // 4\n",
    "\n",
    "# Define the video writer\n",
    "fourcc = cv2.VideoWriter_fourcc(*'mp4v')\n",
    "out = cv2.VideoWriter(output_path, fourcc, fps // 2, (width, height))  # fps halved due to downsampling\n",
    "\n",
    "frame_idx = 0\n",
    "write_idx = 0\n",
    "\n",
    "while cap.isOpened() and frame_idx < half_frame_count:\n",
    "    ret, frame = cap.read()\n",
    "    if not ret:\n",
    "        break\n",
    "\n",
    "    # Keep every other frame (downsample by 2)\n",
    "    if frame_idx % 2 == 0:\n",
    "        out.write(frame)\n",
    "        write_idx += 1\n",
    "\n",
    "    frame_idx += 1\n",
    "\n",
    "cap.release()\n",
    "out.release()\n",
    "print(f\"Processed video saved to: {output_path}\")\n"
   ]
  },
  {
   "cell_type": "code",
   "execution_count": null,
   "metadata": {},
   "outputs": [],
   "source": []
  }
 ],
 "metadata": {
  "kernelspec": {
   "display_name": "sta220_project",
   "language": "python",
   "name": "python3"
  },
  "language_info": {
   "codemirror_mode": {
    "name": "ipython",
    "version": 3
   },
   "file_extension": ".py",
   "mimetype": "text/x-python",
   "name": "python",
   "nbconvert_exporter": "python",
   "pygments_lexer": "ipython3",
   "version": "3.10.16"
  }
 },
 "nbformat": 4,
 "nbformat_minor": 2
}
